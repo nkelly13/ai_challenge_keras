{
 "cells": [
  {
   "cell_type": "markdown",
   "metadata": {},
   "source": [
    "# Keras-based model\n",
    "this model is based heavily off of the following example:\n",
    "https://github.com/fchollet/keras/blob/master/examples/mnist_cnn.py"
   ]
  },
  {
   "cell_type": "code",
   "execution_count": 1,
   "metadata": {},
   "outputs": [
    {
     "name": "stderr",
     "output_type": "stream",
     "text": [
      "Using TensorFlow backend.\n"
     ]
    }
   ],
   "source": [
    "import tensorflow as tf\n",
    "import keras\n",
    "import pickle as pkl\n",
    "import numpy as np\n",
    "import string\n",
    "\n",
    "from keras import backend as K\n",
    "from keras.datasets import mnist\n",
    "from keras.models import Sequential\n",
    "from keras.layers import Dense, Dropout, Flatten\n",
    "from keras.layers import Conv2D, MaxPooling2D"
   ]
  },
  {
   "cell_type": "code",
   "execution_count": 4,
   "metadata": {},
   "outputs": [
    {
     "name": "stdout",
     "output_type": "stream",
     "text": [
      "loaded data shape: (529114, 28, 28, 1)\n",
      "loaded data shape: (18724, 28, 28, 1)\n"
     ]
    }
   ],
   "source": [
    "from KerasUtils import load_data\n",
    "batch_size = 128\n",
    "num_classes = 10\n",
    "epochs = 24\n",
    "img_rows, img_cols = 28, 28\n",
    "\n",
    "\n",
    "x_train, y_train, input_shape = load_data(\"../notMNIST_large\")\n",
    "x_test, y_test, input_shape = load_data(\"../notMNIST_small\")\n"
   ]
  },
  {
   "cell_type": "code",
   "execution_count": 5,
   "metadata": {
    "scrolled": false
   },
   "outputs": [
    {
     "name": "stdout",
     "output_type": "stream",
     "text": [
      "Train on 529114 samples, validate on 18724 samples\n",
      "Epoch 1/24\n",
      "529114/529114 [==============================] - 52s - loss: 0.7702 - acc: 0.7675 - val_loss: 0.3138 - val_acc: 0.9068\n",
      "Epoch 2/24\n",
      "529114/529114 [==============================] - 48s - loss: 0.5328 - acc: 0.8436 - val_loss: 0.2367 - val_acc: 0.9318\n",
      "Epoch 3/24\n",
      "529114/529114 [==============================] - 48s - loss: 0.4559 - acc: 0.8655 - val_loss: 0.1986 - val_acc: 0.9439\n",
      "Epoch 4/24\n",
      "529114/529114 [==============================] - 48s - loss: 0.4213 - acc: 0.8760 - val_loss: 0.1800 - val_acc: 0.9496\n",
      "Epoch 5/24\n",
      "529114/529114 [==============================] - 48s - loss: 0.4037 - acc: 0.8814 - val_loss: 0.1759 - val_acc: 0.9521\n",
      "Epoch 6/24\n",
      "529114/529114 [==============================] - 48s - loss: 0.3920 - acc: 0.8848 - val_loss: 0.1655 - val_acc: 0.9540\n",
      "Epoch 7/24\n",
      "529114/529114 [==============================] - 48s - loss: 0.3847 - acc: 0.8869 - val_loss: 0.1569 - val_acc: 0.9560\n",
      "Epoch 8/24\n",
      "529114/529114 [==============================] - 48s - loss: 0.3788 - acc: 0.8883 - val_loss: 0.1544 - val_acc: 0.9575\n",
      "Epoch 9/24\n",
      "529114/529114 [==============================] - 48s - loss: 0.3757 - acc: 0.8893 - val_loss: 0.1518 - val_acc: 0.9579\n",
      "Epoch 10/24\n",
      "529114/529114 [==============================] - 48s - loss: 0.3710 - acc: 0.8904 - val_loss: 0.1575 - val_acc: 0.9580\n",
      "Epoch 11/24\n",
      "529114/529114 [==============================] - 47s - loss: 0.3688 - acc: 0.8909 - val_loss: 0.1501 - val_acc: 0.9593\n",
      "Epoch 12/24\n",
      "529114/529114 [==============================] - 48s - loss: 0.3672 - acc: 0.8913 - val_loss: 0.1540 - val_acc: 0.9591\n",
      "Epoch 13/24\n",
      "529114/529114 [==============================] - 48s - loss: 0.3663 - acc: 0.8914 - val_loss: 0.1523 - val_acc: 0.9595\n",
      "Epoch 14/24\n",
      "529114/529114 [==============================] - 48s - loss: 0.3644 - acc: 0.8922 - val_loss: 0.1480 - val_acc: 0.9604\n",
      "Epoch 15/24\n",
      "529114/529114 [==============================] - 48s - loss: 0.3643 - acc: 0.8924 - val_loss: 0.1591 - val_acc: 0.9583\n",
      "Epoch 16/24\n",
      "529114/529114 [==============================] - 48s - loss: 0.3631 - acc: 0.8926 - val_loss: 0.1421 - val_acc: 0.9605\n",
      "Epoch 17/24\n",
      "529114/529114 [==============================] - 48s - loss: 0.3636 - acc: 0.8927 - val_loss: 0.1563 - val_acc: 0.9595\n",
      "Epoch 18/24\n",
      "529114/529114 [==============================] - 48s - loss: 0.3632 - acc: 0.8925 - val_loss: 0.1407 - val_acc: 0.9607\n",
      "Epoch 19/24\n",
      "529114/529114 [==============================] - 48s - loss: 0.3633 - acc: 0.8924 - val_loss: 0.1390 - val_acc: 0.9603\n",
      "Epoch 20/24\n",
      "529114/529114 [==============================] - 48s - loss: 0.3630 - acc: 0.8927 - val_loss: 0.1397 - val_acc: 0.9599\n",
      "Epoch 21/24\n",
      "529114/529114 [==============================] - 48s - loss: 0.3619 - acc: 0.8925 - val_loss: 0.1506 - val_acc: 0.9596\n",
      "Epoch 22/24\n",
      "529114/529114 [==============================] - 48s - loss: 0.3626 - acc: 0.8926 - val_loss: 0.1637 - val_acc: 0.9581\n",
      "Epoch 23/24\n",
      "529114/529114 [==============================] - 48s - loss: 0.3627 - acc: 0.8926 - val_loss: 0.1370 - val_acc: 0.9604\n",
      "Epoch 24/24\n",
      "529114/529114 [==============================] - 48s - loss: 0.3617 - acc: 0.8928 - val_loss: 0.1365 - val_acc: 0.9603\n",
      "Test loss: 0.136510228465\n",
      "Test accuracy: 0.960264900662\n"
     ]
    }
   ],
   "source": [
    "model = Sequential()\n",
    "model.add(Conv2D(32, kernel_size=(3, 3),\n",
    "                 activation='relu',\n",
    "                 input_shape=input_shape))\n",
    "model.add(Conv2D(64, (3, 3), activation='relu'))\n",
    "model.add(MaxPooling2D(pool_size=(2, 2)))\n",
    "model.add(Dropout(0.25))\n",
    "model.add(Flatten())\n",
    "model.add(Dense(128, activation='relu'))\n",
    "model.add(Dropout(0.5))\n",
    "model.add(Dense(num_classes, activation='softmax'))\n",
    "\n",
    "model.compile(loss=keras.losses.categorical_crossentropy,\n",
    "              optimizer=keras.optimizers.Adadelta(),\n",
    "              metrics=['accuracy'])\n",
    "\n",
    "model.fit(x_train, y_train,\n",
    "          batch_size=batch_size,\n",
    "          epochs=epochs,\n",
    "          verbose=1,\n",
    "          validation_data=(x_test, y_test))\n",
    "score = model.evaluate(x_test, y_test, verbose=0)\n",
    "print('Test loss:', score[0])\n",
    "print('Test accuracy:', score[1])"
   ]
  },
  {
   "cell_type": "code",
   "execution_count": 6,
   "metadata": {},
   "outputs": [
    {
     "name": "stdout",
     "output_type": "stream",
     "text": [
      "Saved model to disk\n"
     ]
    }
   ],
   "source": [
    "# serialize model to JSON\n",
    "model_json = model.to_json()\n",
    "with open(\"model.json\", \"w\") as json_file:\n",
    "    json_file.write(model_json)\n",
    "# serialize weights to HDF5\n",
    "model.save_weights(\"model.h5\")\n",
    "print(\"Saved model to disk\") "
   ]
  }
 ],
 "metadata": {
  "kernelspec": {
   "display_name": "Python 3",
   "language": "python",
   "name": "python3"
  },
  "language_info": {
   "codemirror_mode": {
    "name": "ipython",
    "version": 3
   },
   "file_extension": ".py",
   "mimetype": "text/x-python",
   "name": "python",
   "nbconvert_exporter": "python",
   "pygments_lexer": "ipython3",
   "version": "3.5.4"
  }
 },
 "nbformat": 4,
 "nbformat_minor": 2
}
